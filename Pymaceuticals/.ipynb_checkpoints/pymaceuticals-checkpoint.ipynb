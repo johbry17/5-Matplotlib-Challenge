{
 "cells": [
  {
   "cell_type": "markdown",
   "metadata": {},
   "source": [
    "# Pymaceuticals Inc.\n",
    "---\n",
    "\n",
    "### Analysis\n",
    "\n",
    "Pymaceuticals' drug of interest, Capomulin, outperforms every other drug regimen except Ramicane, a roughly equal competitor.\n",
    "\n",
    "Naturally, we have to sabotage the Ramicane company to ensure market dominance.\n",
    "\n",
    "The sample data plot for one mouse, l509, elegantly displays a strong decline in tumor volume over the 45 days of the drug trial. It would be useful for displaying drug effectiveness (for marketing, investors, etc.).\n",
    "\n",
    "--- \n",
    "\n",
    "#### Notes\n",
    "\n",
    "Capomulin and Ramicane are the only clear winners, showing about a 10mm3 - 15mm3 reduction in final tumor volume after 45 days (20% - 50% less than every other one of the 9 drug types).\n",
    "\n",
    "Mean and median tumor volume track closely together per all 11 drug regimens. Same with variance, standard deviation, and SEM. The data appears to have been cleaned well.\n",
    "\n",
    "Note that Capomulin and Ramicane have slightly more mouse timepoints, indicating a few more mice (~4) in the sample size, generally resulting in greater precision with the results.\n",
    "\n",
    "Capomulin and Ramicane perform similarly on final tumor volume (30-40mm3), and better than Infubinol and Ceftamin (50-65mm3). The remaining 7 drugs are in the Infubinol and Ceftamin range.\n",
    "\n",
    "Gender is roughly distributed in the sample size. It shouldn't have any effect on the drug treatment, assuming gender is evenly distributed amongst the drug sample populations.\n",
    "\n",
    "Perhaps unsurprisingly, the correlation coefficient between mouse weight and average tumor volume is 0.84, very strong. Bigger mice have bigger tumors. Smaller mice have smaller tumors.\n",
    "\n",
    "--- \n",
    "\n",
    "#### Questions (like a good Big Pharma company, we should ignore these)\n",
    "\n",
    "We should actually compare starting tumor size to final tumor size for all drug regimens. While the plot for mouse l509 looks good, it's basically cherry-picked, anecdotal data.\n",
    "\n",
    "Is the sample size (248 mice over 11 drug trials) large enough to be statistically valid?\n",
    "\n",
    "--- \n",
    "\n",
    "#### Conclusion\n",
    "\n",
    "Capomulin works well, and Ramicane is our only valid competitor.\n",
    "\n",
    "--- "
   ]
  },
  {
   "cell_type": "code",
   "execution_count": 1,
   "metadata": {},
   "outputs": [],
   "source": [
    "# Dependencies and Setup\n",
    "import matplotlib.pyplot as plt\n",
    "import pandas as pd\n",
    "import scipy.stats as st\n",
    "\n",
    "# Study data files\n",
    "mouse_metadata_path = \"data/Mouse_metadata.csv\"\n",
    "study_results_path = \"data/Study_results.csv\"\n",
    "\n",
    "# Read the mouse data and the study results\n",
    "mouse_metadata = pd.read_csv(mouse_metadata_path)\n",
    "study_results = pd.read_csv(study_results_path)\n",
    "\n",
    "# Combine the data into a single DataFrame\n",
    "mouse_data_complete = pd.merge(\n",
    "    study_results, mouse_metadata, on=[\"Mouse ID\"], how=\"left\"\n",
    ")\n",
    "\n",
    "# Display the data table for preview\n",
    "mouse_data_complete.head()"
   ]
  },
  {
   "cell_type": "code",
   "execution_count": 2,
   "metadata": {},
   "outputs": [],
   "source": [
    "# Checking the number of mice.\n",
    "mouse_data_complete[\"Mouse ID\"].nunique()"
   ]
  },
  {
   "cell_type": "code",
   "execution_count": 3,
   "metadata": {},
   "outputs": [],
   "source": [
    "# Our data should be uniquely identified by Mouse ID and Timepoint\n",
    "# Get the duplicate mice by ID number that shows up for Mouse ID and Timepoint.\n",
    "duplicate_mice = mouse_data_complete[\n",
    "    mouse_data_complete.duplicated(subset=[\"Mouse ID\", \"Timepoint\"])\n",
    "][\"Mouse ID\"].unique()\n",
    "duplicate_mice"
   ]
  },
  {
   "cell_type": "code",
   "execution_count": 4,
   "metadata": {},
   "outputs": [],
   "source": [
    "# Optional: Get all the data for the duplicate mouse ID.\n",
    "mouse_data_complete[mouse_data_complete[\"Mouse ID\"].isin(duplicate_mice)]"
   ]
  },
  {
   "cell_type": "code",
   "execution_count": 5,
   "metadata": {},
   "outputs": [],
   "source": [
    "# Create a clean DataFrame by dropping the duplicate mouse by its ID.\n",
    "df = mouse_data_complete[~mouse_data_complete[\"Mouse ID\"].isin(duplicate_mice)]\n",
    "df.head()"
   ]
  },
  {
   "cell_type": "code",
   "execution_count": 6,
   "metadata": {},
   "outputs": [],
   "source": [
    "# Checking the number of mice in the clean DataFrame.\n",
    "df[\"Mouse ID\"].nunique()"
   ]
  },
  {
   "cell_type": "markdown",
   "metadata": {},
   "source": [
    "## Summary Statistics"
   ]
  },
  {
   "cell_type": "code",
   "execution_count": 7,
   "metadata": {},
   "outputs": [],
   "source": [
    "# Generate a summary statistics table of mean, median, variance, standard deviation, and SEM of the tumor volume for each regimen\n",
    "\n",
    "# Use groupby and summary statistical methods to calculate the following properties of each drug regimen:\n",
    "# mean, median, variance, standard deviation, and SEM of the tumor volume.\n",
    "# Assemble the resulting series into a single summary DataFrame.\n",
    "tmp = df.groupby(\"Drug Regimen\")[\"Tumor Volume (mm3)\"]\n",
    "drug_summary = pd.DataFrame(\n",
    "    {\n",
    "        \"Mean Tumor Volume\": tmp.mean(),\n",
    "        \"Median Tumor Volume\": tmp.median(),\n",
    "        \"Tumor Volume Variance\": tmp.var(),\n",
    "        \"Tumor Volume Std. Dev.\": tmp.std(),\n",
    "        \"Tumor Volume Std. Err.\": tmp.sem(),\n",
    "    }\n",
    ")\n",
    "drug_summary"
   ]
  },
  {
   "cell_type": "code",
   "execution_count": 8,
   "metadata": {},
   "outputs": [],
   "source": [
    "# A more advanced method to generate a summary statistics table of mean, median, variance, standard deviation,\n",
    "# and SEM of the tumor volume for each regimen (only one method is required in the solution)\n",
    "\n",
    "# Using the aggregation method, produce the same summary statistics in a single line\n",
    "df.groupby(\"Drug Regimen\")[\"Tumor Volume (mm3)\"].agg(\n",
    "    [\"mean\", \"median\", \"var\", \"std\", \"sem\"]\n",
    ").style.set_caption(\"Tumor Volume (mm3)\")"
   ]
  },
  {
   "cell_type": "markdown",
   "metadata": {},
   "source": [
    "## Bar and Pie Charts"
   ]
  },
  {
   "cell_type": "code",
   "execution_count": 9,
   "metadata": {},
   "outputs": [],
   "source": [
    "# Generate a bar plot showing the total number of rows (Mouse ID/Timepoints) for each drug regimen using Pandas.\n",
    "total_per_drug = df[\"Drug Regimen\"].value_counts()\n",
    "total_per_drug.plot.bar(\n",
    "    x=\"Drug Regimen\",\n",
    "    y=\"Timepoint\",\n",
    "    xlabel=\"Drug Regimen\",\n",
    "    ylabel=\"# of Observed Mouse Timepoints\",\n",
    "    edgecolor=\"black\",\n",
    "    color=\"red\",\n",
    ")\n",
    "# gca = get current axes\n",
    "plt.gca().set_facecolor(\"grey\")\n",
    "plt.title(\"Drug Regimen vs Mouse Observations Over Time\")\n",
    "plt.show()"
   ]
  },
  {
   "cell_type": "code",
   "execution_count": 10,
   "metadata": {},
   "outputs": [],
   "source": [
    "# Generate a bar plot showing the total number of rows (Mouse ID/Timepoints) for each drug regimen using pyplot.\n",
    "# plt.figure(figsize=[16,4])\n",
    "plt.bar(total_per_drug.index, total_per_drug.values)\n",
    "plt.xlabel(\"Drug Regimen\")\n",
    "plt.ylabel(\"# of Observed Mouse Timepoints\")\n",
    "plt.xticks(rotation=\"vertical\")\n",
    "plt.title(\"Drug Regimen vs Mouse Observations Over Time\")\n",
    "plt.show()"
   ]
  },
  {
   "cell_type": "code",
   "execution_count": 11,
   "metadata": {},
   "outputs": [],
   "source": [
    "# Generate a pie plot showing the distribution of female versus male mice using Pandas\n",
    "total_per_sex = df[\"Sex\"].value_counts()\n",
    "total_per_sex.plot(\n",
    "    kind=\"pie\",\n",
    "    autopct=\"%1.1f%%\",\n",
    "    explode=[0.05, 0],\n",
    "    shadow=True,\n",
    "    colors=[\"darkgreen\", \"firebrick\"],\n",
    ")\n",
    "plt.title(\"Mouse Sample Population by Gender\")\n",
    "plt.show()"
   ]
  },
  {
   "cell_type": "code",
   "execution_count": 12,
   "metadata": {},
   "outputs": [],
   "source": [
    "# Generate a pie plot showing the distribution of female versus male mice using pyplot\n",
    "plt.ylabel(\"Sex\")\n",
    "plt.pie(total_per_sex.values, labels=total_per_sex.index, autopct=\"%1.1f%%\")\n",
    "plt.title(\"Mouse Sample Population by Gender\")\n",
    "plt.show()"
   ]
  },
  {
   "cell_type": "markdown",
   "metadata": {},
   "source": [
    "## Quartiles, Outliers and Boxplots"
   ]
  },
  {
   "cell_type": "code",
   "execution_count": 13,
   "metadata": {},
   "outputs": [],
   "source": [
    "# Calculate the final tumor volume of each mouse across four of the treatment regimens:\n",
    "# Capomulin, Ramicane, Infubinol, and Ceftamin\n",
    "\n",
    "# Start by getting the last (greatest) timepoint for each mouse\n",
    "max_tumor_size = df.groupby(\"Mouse ID\")[\"Timepoint\"].max()\n",
    "\n",
    "# Merge this group df with the original DataFrame to get the tumor volume at the last timepoint\n",
    "merged = pd.merge(max_tumor_size, df, on=[\"Mouse ID\", \"Timepoint\"])"
   ]
  },
  {
   "cell_type": "code",
   "execution_count": 14,
   "metadata": {},
   "outputs": [],
   "source": [
    "# Put treatments into a list for for loop (and later for plot labels)\n",
    "treatments_of_interest = [\"Capomulin\", \"Ramicane\", \"Infubinol\", \"Ceftamin\"]\n",
    "\n",
    "# Create empty list to fill with tumor vol data (for plotting)\n",
    "tumor_vol = []\n",
    "outliers = {}\n",
    "\n",
    "# Calculate the IQR and quantitatively determine if there are any potential outliers.\n",
    "for drug in treatments_of_interest:\n",
    "    # Locate the rows which contain mice on each drug and get the tumor volumes\n",
    "    temp = merged.loc[merged[\"Drug Regimen\"] == drug, \"Tumor Volume (mm3)\"]\n",
    "    # calculate IQR and quartiles\n",
    "    q1 = temp.quantile(0.25)\n",
    "    q3 = temp.quantile(0.75)\n",
    "    iqr = q3 - q1\n",
    "    # add subset\n",
    "    tumor_vol.append(temp)\n",
    "    # Determine outliers using upper and lower bounds\n",
    "    high = q3 + iqr * 1.5\n",
    "    low = q1 - iqr * 1.5\n",
    "    # store outliers in dict and print\n",
    "    outliers[drug] = temp.loc[(temp < low) | (temp > high)]\n",
    "    print(f\"{drug}'s potential outliers: {outliers[drug]}\")"
   ]
  },
  {
   "cell_type": "code",
   "execution_count": 15,
   "metadata": {},
   "outputs": [],
   "source": [
    "# Generate a box plot that shows the distrubution of the tumor volume for each treatment group.\n",
    "plt.boxplot(\n",
    "    tumor_vol,\n",
    "    labels=treatments_of_interest,\n",
    "    flierprops={\"markerfacecolor\": \"red\", \"markersize\": 14},\n",
    ")\n",
    "plt.ylabel(\"Final Tumor Volume (mm3)\")\n",
    "plt.title(\"Boxplot of Drug Regimen vs Final Tumor Volume (mm3)\")\n",
    "plt.show()"
   ]
  },
  {
   "cell_type": "markdown",
   "metadata": {},
   "source": [
    "## Line and Scatter Plots"
   ]
  },
  {
   "cell_type": "code",
   "execution_count": 16,
   "metadata": {},
   "outputs": [],
   "source": [
    "# Generate a line plot of tumor volume vs. time point for a single mouse treated with Capomulin\n",
    "mouse = df[df[\"Mouse ID\"] == \"l509\"]\n",
    "plt.plot(mouse[\"Timepoint\"], mouse[\"Tumor Volume (mm3)\"])\n",
    "plt.ylabel(\"Tumor Volume (mm3)\")\n",
    "plt.xlabel(\"Timepoint (days)\")\n",
    "plt.title(\"Capomulin Treatment of Mouse l509\");"
   ]
  },
  {
   "cell_type": "code",
   "execution_count": 17,
   "metadata": {},
   "outputs": [],
   "source": [
    "# Generate a scatter plot of mouse weight vs. the average observed tumor volume for the entire Capomulin regimen\n",
    "capomulin = df[df[\"Drug Regimen\"] == \"Capomulin\"]\n",
    "mean_tumor_vol = capomulin.groupby(\"Mouse ID\")[\"Tumor Volume (mm3)\"].mean()\n",
    "mean_weight = capomulin.groupby(\"Mouse ID\")[\"Weight (g)\"].mean()\n",
    "plt.scatter(mean_weight, mean_tumor_vol)\n",
    "plt.title(\"Mouse Weight (g) vs Average Tumor Volume (mm3)\")\n",
    "plt.ylabel(\"Average Tumor Volume (mm3)\")\n",
    "plt.xlabel(\"Weight (g)\");"
   ]
  },
  {
   "cell_type": "markdown",
   "metadata": {},
   "source": [
    "## Correlation and Regression"
   ]
  },
  {
   "cell_type": "code",
   "execution_count": 18,
   "metadata": {},
   "outputs": [],
   "source": [
    "# Calculate the correlation coefficient and a linear regression model\n",
    "# for mouse weight and average observed tumor volume for the entire Capomulin regimen\n",
    "\n",
    "# prints out correlation coefficient\n",
    "coeff = st.pearsonr(mean_weight, mean_tumor_vol)\n",
    "print(\n",
    "    f\"The correlation between mouse weight and the average tumor volume is {coeff[0]:.2f}\"\n",
    ")\n",
    "# plot scatter and regression line\n",
    "plt.scatter(mean_weight, mean_tumor_vol)\n",
    "lin_reg = st.linregress(mean_weight, mean_tumor_vol)\n",
    "# lin_reg[0] is the slope, lin_reg[1] is the y-intercept\n",
    "y = lin_reg[0] * mean_weight + lin_reg[1]\n",
    "plt.plot(mean_weight, y, color=\"r\")\n",
    "plt.title(\"Mouse Weight (g) vs Average Tumor Volume (mm3)\")\n",
    "plt.ylabel(\"Average Tumor Volume (mm3)\")\n",
    "plt.xlabel(\"Weight (g)\")\n",
    "plt.annotate(\n",
    "    f\"y = {lin_reg[0]:.2f}x + {lin_reg[1]:.2f}\",\n",
    "    xy=(0.1, 0.9),\n",
    "    xycoords=plt.gca(),\n",
    "    color=\"red\",\n",
    "    fontsize=16,\n",
    ")\n",
    "plt.show()"
   ]
  },
  {
   "cell_type": "code",
   "execution_count": null,
   "metadata": {},
   "outputs": [],
   "source": []
  }
 ],
 "metadata": {
  "anaconda-cloud": {},
  "kernelspec": {
   "display_name": "Python 3 (ipykernel)",
   "language": "python",
   "name": "python3"
  },
  "language_info": {
   "codemirror_mode": {
    "name": "ipython",
    "version": 3
   },
   "file_extension": ".py",
   "mimetype": "text/x-python",
   "name": "python",
   "nbconvert_exporter": "python",
   "pygments_lexer": "ipython3",
   "version": "3.9.13"
  }
 },
 "nbformat": 4,
 "nbformat_minor": 4
}
